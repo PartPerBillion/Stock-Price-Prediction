{
 "cells": [
  {
   "cell_type": "markdown",
   "id": "2a2d142b-8a47-4a44-9f73-e245c8258620",
   "metadata": {},
   "source": [
    "### <b> Stock Price Predictor"
   ]
  },
  {
   "cell_type": "code",
   "execution_count": 1,
   "id": "62f49f8b-f134-49a0-a28f-fb79bcfe7ba5",
   "metadata": {},
   "outputs": [],
   "source": [
    "import numpy as np\n",
    "import pandas as pd\n",
    "import yfinance as yf\n",
    "import seaborn as sns\n",
    "import matplotlib.pyplot as plt\n",
    "\n",
    "%matplotlib inline"
   ]
  },
  {
   "cell_type": "code",
   "execution_count": 2,
   "id": "acba219f-de14-423a-be20-3510d6ebd818",
   "metadata": {},
   "outputs": [
    {
     "name": "stdin",
     "output_type": "stream",
     "text": [
      "Enter code of the stock :  GOOG\n"
     ]
    },
    {
     "name": "stdout",
     "output_type": "stream",
     "text": [
      "[*********************100%***********************]  1 of 1 completed\n"
     ]
    },
    {
     "data": {
      "text/html": [
       "<div>\n",
       "<style scoped>\n",
       "    .dataframe tbody tr th:only-of-type {\n",
       "        vertical-align: middle;\n",
       "    }\n",
       "\n",
       "    .dataframe tbody tr th {\n",
       "        vertical-align: top;\n",
       "    }\n",
       "\n",
       "    .dataframe thead th {\n",
       "        text-align: right;\n",
       "    }\n",
       "</style>\n",
       "<table border=\"1\" class=\"dataframe\">\n",
       "  <thead>\n",
       "    <tr style=\"text-align: right;\">\n",
       "      <th></th>\n",
       "      <th>Open</th>\n",
       "      <th>High</th>\n",
       "      <th>Low</th>\n",
       "      <th>Close</th>\n",
       "      <th>Adj Close</th>\n",
       "      <th>Volume</th>\n",
       "    </tr>\n",
       "    <tr>\n",
       "      <th>Date</th>\n",
       "      <th></th>\n",
       "      <th></th>\n",
       "      <th></th>\n",
       "      <th></th>\n",
       "      <th></th>\n",
       "      <th></th>\n",
       "    </tr>\n",
       "  </thead>\n",
       "  <tbody>\n",
       "    <tr>\n",
       "      <th>2007-12-31</th>\n",
       "      <td>347.980682</td>\n",
       "      <td>349.933350</td>\n",
       "      <td>344.000610</td>\n",
       "      <td>344.448914</td>\n",
       "      <td>344.448914</td>\n",
       "      <td>4770213</td>\n",
       "    </tr>\n",
       "    <tr>\n",
       "      <th>2008-01-02</th>\n",
       "      <td>345.141327</td>\n",
       "      <td>347.382935</td>\n",
       "      <td>337.599579</td>\n",
       "      <td>341.315674</td>\n",
       "      <td>341.315674</td>\n",
       "      <td>8646087</td>\n",
       "    </tr>\n",
       "    <tr>\n",
       "      <th>2008-01-03</th>\n",
       "      <td>341.350525</td>\n",
       "      <td>342.142578</td>\n",
       "      <td>336.996857</td>\n",
       "      <td>341.385406</td>\n",
       "      <td>341.385406</td>\n",
       "      <td>6529382</td>\n",
       "    </tr>\n",
       "    <tr>\n",
       "      <th>2008-01-04</th>\n",
       "      <td>338.575928</td>\n",
       "      <td>339.208557</td>\n",
       "      <td>326.277039</td>\n",
       "      <td>327.273285</td>\n",
       "      <td>327.273285</td>\n",
       "      <td>10759780</td>\n",
       "    </tr>\n",
       "    <tr>\n",
       "      <th>2008-01-07</th>\n",
       "      <td>325.749023</td>\n",
       "      <td>329.903442</td>\n",
       "      <td>317.484985</td>\n",
       "      <td>323.412781</td>\n",
       "      <td>323.412781</td>\n",
       "      <td>12854803</td>\n",
       "    </tr>\n",
       "  </tbody>\n",
       "</table>\n",
       "</div>"
      ],
      "text/plain": [
       "                  Open        High         Low       Close   Adj Close  \\\n",
       "Date                                                                     \n",
       "2007-12-31  347.980682  349.933350  344.000610  344.448914  344.448914   \n",
       "2008-01-02  345.141327  347.382935  337.599579  341.315674  341.315674   \n",
       "2008-01-03  341.350525  342.142578  336.996857  341.385406  341.385406   \n",
       "2008-01-04  338.575928  339.208557  326.277039  327.273285  327.273285   \n",
       "2008-01-07  325.749023  329.903442  317.484985  323.412781  323.412781   \n",
       "\n",
       "              Volume  \n",
       "Date                  \n",
       "2007-12-31   4770213  \n",
       "2008-01-02   8646087  \n",
       "2008-01-03   6529382  \n",
       "2008-01-04  10759780  \n",
       "2008-01-07  12854803  "
      ]
     },
     "execution_count": 2,
     "metadata": {},
     "output_type": "execute_result"
    }
   ],
   "source": [
    "s = input('Enter code of the stock : ')\n",
    "d = yf.download(s,'2008-01-01','2022-01-01')\n",
    "d.head()"
   ]
  },
  {
   "cell_type": "code",
   "execution_count": 3,
   "id": "4aa08c09-67df-40df-bb6b-fe7640b4145b",
   "metadata": {},
   "outputs": [
    {
     "data": {
      "text/plain": [
       "(3527, 6)"
      ]
     },
     "execution_count": 3,
     "metadata": {},
     "output_type": "execute_result"
    }
   ],
   "source": [
    "d.shape"
   ]
  },
  {
   "cell_type": "code",
   "execution_count": 4,
   "id": "841be710-6df7-4e9d-9ac0-bd2066243189",
   "metadata": {},
   "outputs": [
    {
     "name": "stdout",
     "output_type": "stream",
     "text": [
      "<class 'pandas.core.frame.DataFrame'>\n",
      "DatetimeIndex: 3527 entries, 2007-12-31 to 2021-12-31\n",
      "Data columns (total 6 columns):\n",
      " #   Column     Non-Null Count  Dtype  \n",
      "---  ------     --------------  -----  \n",
      " 0   Open       3527 non-null   float64\n",
      " 1   High       3527 non-null   float64\n",
      " 2   Low        3527 non-null   float64\n",
      " 3   Close      3527 non-null   float64\n",
      " 4   Adj Close  3527 non-null   float64\n",
      " 5   Volume     3527 non-null   int64  \n",
      "dtypes: float64(5), int64(1)\n",
      "memory usage: 192.9 KB\n"
     ]
    }
   ],
   "source": [
    "d.info()"
   ]
  },
  {
   "cell_type": "code",
   "execution_count": 5,
   "id": "a2dc9791-a59f-403c-9fca-c851f534e8f9",
   "metadata": {},
   "outputs": [
    {
     "data": {
      "text/html": [
       "<div>\n",
       "<style scoped>\n",
       "    .dataframe tbody tr th:only-of-type {\n",
       "        vertical-align: middle;\n",
       "    }\n",
       "\n",
       "    .dataframe tbody tr th {\n",
       "        vertical-align: top;\n",
       "    }\n",
       "\n",
       "    .dataframe thead th {\n",
       "        text-align: right;\n",
       "    }\n",
       "</style>\n",
       "<table border=\"1\" class=\"dataframe\">\n",
       "  <thead>\n",
       "    <tr style=\"text-align: right;\">\n",
       "      <th></th>\n",
       "      <th>Open</th>\n",
       "      <th>High</th>\n",
       "      <th>Low</th>\n",
       "      <th>Close</th>\n",
       "      <th>Adj Close</th>\n",
       "      <th>Volume</th>\n",
       "    </tr>\n",
       "  </thead>\n",
       "  <tbody>\n",
       "    <tr>\n",
       "      <th>count</th>\n",
       "      <td>3527.000000</td>\n",
       "      <td>3527.000000</td>\n",
       "      <td>3527.000000</td>\n",
       "      <td>3527.000000</td>\n",
       "      <td>3527.000000</td>\n",
       "      <td>3.527000e+03</td>\n",
       "    </tr>\n",
       "    <tr>\n",
       "      <th>mean</th>\n",
       "      <td>777.041122</td>\n",
       "      <td>784.384378</td>\n",
       "      <td>769.804371</td>\n",
       "      <td>777.345745</td>\n",
       "      <td>777.345745</td>\n",
       "      <td>3.995183e+06</td>\n",
       "    </tr>\n",
       "    <tr>\n",
       "      <th>std</th>\n",
       "      <td>627.450140</td>\n",
       "      <td>633.312931</td>\n",
       "      <td>622.207153</td>\n",
       "      <td>628.083162</td>\n",
       "      <td>628.083162</td>\n",
       "      <td>4.013663e+06</td>\n",
       "    </tr>\n",
       "    <tr>\n",
       "      <th>min</th>\n",
       "      <td>130.764862</td>\n",
       "      <td>134.182053</td>\n",
       "      <td>123.188263</td>\n",
       "      <td>128.239334</td>\n",
       "      <td>128.239334</td>\n",
       "      <td>7.922000e+03</td>\n",
       "    </tr>\n",
       "    <tr>\n",
       "      <th>25%</th>\n",
       "      <td>295.205994</td>\n",
       "      <td>297.479965</td>\n",
       "      <td>292.448822</td>\n",
       "      <td>294.692932</td>\n",
       "      <td>294.692932</td>\n",
       "      <td>1.419150e+06</td>\n",
       "    </tr>\n",
       "    <tr>\n",
       "      <th>50%</th>\n",
       "      <td>563.642517</td>\n",
       "      <td>568.708618</td>\n",
       "      <td>557.529297</td>\n",
       "      <td>562.979797</td>\n",
       "      <td>562.979797</td>\n",
       "      <td>2.479860e+06</td>\n",
       "    </tr>\n",
       "    <tr>\n",
       "      <th>75%</th>\n",
       "      <td>1083.015015</td>\n",
       "      <td>1094.207520</td>\n",
       "      <td>1071.102478</td>\n",
       "      <td>1082.619995</td>\n",
       "      <td>1082.619995</td>\n",
       "      <td>5.086093e+06</td>\n",
       "    </tr>\n",
       "    <tr>\n",
       "      <th>max</th>\n",
       "      <td>3020.000000</td>\n",
       "      <td>3037.000000</td>\n",
       "      <td>2997.750000</td>\n",
       "      <td>3014.179932</td>\n",
       "      <td>3014.179932</td>\n",
       "      <td>4.674917e+07</td>\n",
       "    </tr>\n",
       "  </tbody>\n",
       "</table>\n",
       "</div>"
      ],
      "text/plain": [
       "              Open         High          Low        Close    Adj Close  \\\n",
       "count  3527.000000  3527.000000  3527.000000  3527.000000  3527.000000   \n",
       "mean    777.041122   784.384378   769.804371   777.345745   777.345745   \n",
       "std     627.450140   633.312931   622.207153   628.083162   628.083162   \n",
       "min     130.764862   134.182053   123.188263   128.239334   128.239334   \n",
       "25%     295.205994   297.479965   292.448822   294.692932   294.692932   \n",
       "50%     563.642517   568.708618   557.529297   562.979797   562.979797   \n",
       "75%    1083.015015  1094.207520  1071.102478  1082.619995  1082.619995   \n",
       "max    3020.000000  3037.000000  2997.750000  3014.179932  3014.179932   \n",
       "\n",
       "             Volume  \n",
       "count  3.527000e+03  \n",
       "mean   3.995183e+06  \n",
       "std    4.013663e+06  \n",
       "min    7.922000e+03  \n",
       "25%    1.419150e+06  \n",
       "50%    2.479860e+06  \n",
       "75%    5.086093e+06  \n",
       "max    4.674917e+07  "
      ]
     },
     "execution_count": 5,
     "metadata": {},
     "output_type": "execute_result"
    }
   ],
   "source": [
    "d.describe()"
   ]
  },
  {
   "cell_type": "code",
   "execution_count": 6,
   "id": "14f37670-0701-42e5-b855-e269fb3a5034",
   "metadata": {},
   "outputs": [
    {
     "data": {
      "text/plain": [
       "<AxesSubplot:xlabel='Date'>"
      ]
     },
     "execution_count": 6,
     "metadata": {},
     "output_type": "execute_result"
    },
    {
     "data": {
      "image/png": "[encoded data removed]",
      "text/plain": [
       "<Figure size 648x432 with 1 Axes>"
      ]
     },
     "metadata": {
      "needs_background": "light"
     },
     "output_type": "display_data"
    }
   ],
   "source": [
    "d.Close.plot(figsize=(9,6))"
   ]
  },
  {
   "cell_type": "code",
   "execution_count": 7,
   "id": "7da43eb3-de91-48d1-9910-86f95fddc384",
   "metadata": {},
   "outputs": [],
   "source": [
    "def dp(x):\n",
    "    sns.distplot(d[x])"
   ]
  },
  {
   "cell_type": "code",
   "execution_count": 8,
   "id": "5b0d49f7-9bba-43dc-8798-98a9b911272e",
   "metadata": {},
   "outputs": [
    {
     "name": "stderr",
     "output_type": "stream",
     "text": [
      "C:\\Users\\sriha\\AppData\\Local\\Programs\\Python\\Python310\\lib\\site-packages\\seaborn\\distributions.py:2619: FutureWarning: `distplot` is a deprecated function and will be removed in a future version. Please adapt your code to use either `displot` (a figure-level function with similar flexibility) or `histplot` (an axes-level function for histograms).\n",
      "  warnings.warn(msg, FutureWarning)\n"
     ]
    },
    {
     "data": {
      "image/png": "[encoded data removed]",
      "text/plain": [
       "<Figure size 432x288 with 1 Axes>"
      ]
     },
     "metadata": {
      "needs_background": "light"
     },
     "output_type": "display_data"
    }
   ],
   "source": [
    "dp('Close')"
   ]
  },
  {
   "cell_type": "code",
   "execution_count": 9,
   "id": "2775e626-b3d3-4384-8992-0bcb690d7fa3",
   "metadata": {},
   "outputs": [
    {
     "name": "stderr",
     "output_type": "stream",
     "text": [
      "C:\\Users\\sriha\\AppData\\Local\\Programs\\Python\\Python310\\lib\\site-packages\\seaborn\\distributions.py:2619: FutureWarning: `distplot` is a deprecated function and will be removed in a future version. Please adapt your code to use either `displot` (a figure-level function with similar flexibility) or `histplot` (an axes-level function for histograms).\n",
      "  warnings.warn(msg, FutureWarning)\n"
     ]
    },
    {
     "data": {
      "image/png": "[encoded data removed]",
      "text/plain": [
       "<Figure size 432x288 with 1 Axes>"
      ]
     },
     "metadata": {
      "needs_background": "light"
     },
     "output_type": "display_data"
    }
   ],
   "source": [
    "dp('Open')"
   ]
  },
  {
   "cell_type": "code",
   "execution_count": 10,
   "id": "5ef25f3e-7c4c-412d-b065-bf00d01ee0c3",
   "metadata": {},
   "outputs": [
    {
     "name": "stderr",
     "output_type": "stream",
     "text": [
      "C:\\Users\\sriha\\AppData\\Local\\Programs\\Python\\Python310\\lib\\site-packages\\seaborn\\distributions.py:2619: FutureWarning: `distplot` is a deprecated function and will be removed in a future version. Please adapt your code to use either `displot` (a figure-level function with similar flexibility) or `histplot` (an axes-level function for histograms).\n",
      "  warnings.warn(msg, FutureWarning)\n"
     ]
    },
    {
     "data": {
      "image/png": "[encoded data removed]",
      "text/plain": [
       "<Figure size 432x288 with 1 Axes>"
      ]
     },
     "metadata": {
      "needs_background": "light"
     },
     "output_type": "display_data"
    }
   ],
   "source": [
    "dp('High')"
   ]
  },
  {
   "cell_type": "code",
   "execution_count": 11,
   "id": "14811aa6-7254-41db-a6c3-e3c838fe72f7",
   "metadata": {},
   "outputs": [],
   "source": [
    "x = d.drop('Close',axis=1)\n",
    "y = d['Close']"
   ]
  },
  {
   "cell_type": "code",
   "execution_count": 12,
   "id": "ccb58bb8-8e9d-4ebd-a3aa-1a0aa43c5bea",
   "metadata": {},
   "outputs": [],
   "source": [
    "from sklearn.model_selection import train_test_split\n",
    "\n",
    "a,d,s,f = train_test_split(x, y, test_size = 0.2, random_state = 9)"
   ]
  },
  {
   "cell_type": "code",
   "execution_count": 13,
   "id": "d46dd2a0-edcd-4711-a42c-fc261c608fa0",
   "metadata": {},
   "outputs": [
    {
     "name": "stdout",
     "output_type": "stream",
     "text": [
      "(2821, 5)\n",
      "(2821,)\n",
      "(706, 5)\n",
      "(706,)\n"
     ]
    }
   ],
   "source": [
    "print(a.shape)\n",
    "print(s.shape)\n",
    "print(d.shape)\n",
    "print(f.shape)"
   ]
  },
  {
   "cell_type": "markdown",
   "id": "d9cecb3b-07d5-4a55-ada8-b33d475def87",
   "metadata": {},
   "source": [
    "## Models"
   ]
  },
  {
   "cell_type": "markdown",
   "id": "29256033-1b35-4b8e-a0be-1442ce2c7869",
   "metadata": {},
   "source": [
    "### Linear Regression"
   ]
  },
  {
   "cell_type": "code",
   "execution_count": 14,
   "id": "40cdf01e-ce0b-41b8-bbce-205223d696c2",
   "metadata": {},
   "outputs": [],
   "source": [
    "from sklearn.linear_model import LinearRegression\n",
    "\n",
    "lr = LinearRegression()\n",
    "lr.fit(a,s)\n",
    "g = lr.predict(d)"
   ]
  },
  {
   "cell_type": "code",
   "execution_count": 15,
   "id": "8928bde0-9d8f-4c88-b615-cfb4fd857bee",
   "metadata": {},
   "outputs": [],
   "source": [
    "from sklearn.metrics import mean_squared_error, r2_score\n",
    "\n",
    "def ms(f,g):\n",
    "    mse = mean_squared_error(f,g)\n",
    "    rmse = np.sqrt(mse)\n",
    "    r2 = r2_score(f,g)\n",
    "    \n",
    "    print('mse : {}'.format(mse))\n",
    "    print('rmse : {}'.format(rmse))\n",
    "    print('r2_score : {}'.format(r2))"
   ]
  },
  {
   "cell_type": "code",
   "execution_count": 16,
   "id": "60cb18d8-e23e-4d6f-b190-2938916a5e85",
   "metadata": {},
   "outputs": [
    {
     "name": "stdout",
     "output_type": "stream",
     "text": [
      "mse : 2.2160646009428575e-23\n",
      "rmse : 4.707509533652436e-12\n",
      "r2_score : 1.0\n"
     ]
    }
   ],
   "source": [
    "ms(f,g)"
   ]
  },
  {
   "cell_type": "markdown",
   "id": "506cb21f-9fa8-42e5-a130-4a157d2410ae",
   "metadata": {},
   "source": [
    "### Lasso and Ridge Regression"
   ]
  },
  {
   "cell_type": "code",
   "execution_count": 19,
   "id": "b5719e76-72ea-4342-b729-ab014e1e7f15",
   "metadata": {},
   "outputs": [
    {
     "name": "stderr",
     "output_type": "stream",
     "text": [
      "C:\\Users\\sriha\\AppData\\Local\\Programs\\Python\\Python310\\lib\\site-packages\\sklearn\\linear_model\\_coordinate_descent.py:648: ConvergenceWarning: Objective did not converge. You might want to increase the number of iterations, check the scale of the features or consider increasing regularisation. Duality gap: 1.225e+05, tolerance: 1.095e+05\n",
      "  model = cd_fast.enet_coordinate_descent(\n"
     ]
    }
   ],
   "source": [
    "from sklearn.linear_model import Lasso, Ridge\n",
    "\n",
    "la = Lasso().fit(a,s)\n",
    "ri = Ridge().fit(a,s)\n",
    "\n",
    "lg = la.predict(d)\n",
    "rg = ri.predict(d)"
   ]
  },
  {
   "cell_type": "code",
   "execution_count": 20,
   "id": "4ffa8128-8333-4881-b1c8-6062d9e8d245",
   "metadata": {},
   "outputs": [
    {
     "name": "stdout",
     "output_type": "stream",
     "text": [
      "mse : 98.16953100997168\n",
      "rmse : 9.908053845734372\n",
      "r2_score : 0.9997660448189362\n"
     ]
    }
   ],
   "source": [
    "ms(f,lg)"
   ]
  },
  {
   "cell_type": "code",
   "execution_count": 21,
   "id": "ae9c2475-1728-4582-8e38-2baf654854b7",
   "metadata": {},
   "outputs": [
    {
     "name": "stdout",
     "output_type": "stream",
     "text": [
      "mse : 3.337135188919254e-09\n",
      "rmse : 5.776794257128476e-05\n",
      "r2_score : 0.999999999999992\n"
     ]
    }
   ],
   "source": [
    "ms(f,rg)"
   ]
  },
  {
   "cell_type": "markdown",
   "id": "fbf4197f-64ec-4da7-b33c-ddbc7e215994",
   "metadata": {},
   "source": [
    "### Support Vector Machine"
   ]
  },
  {
   "cell_type": "code",
   "execution_count": 23,
   "id": "3c8761da-8c22-489f-beb8-170359b58e80",
   "metadata": {},
   "outputs": [
    {
     "name": "stdout",
     "output_type": "stream",
     "text": [
      "Fitting 5 folds for each of 25 candidates, totalling 125 fits\n",
      "[CV 1/5] END .......C=0.1, gamma=1, kernel=rbf;, score=-0.126 total time=   0.5s\n",
      "[CV 2/5] END .......C=0.1, gamma=1, kernel=rbf;, score=-0.090 total time=   0.5s\n",
      "[CV 3/5] END .......C=0.1, gamma=1, kernel=rbf;, score=-0.127 total time=   0.4s\n",
      "[CV 4/5] END .......C=0.1, gamma=1, kernel=rbf;, score=-0.113 total time=   0.4s\n",
      "[CV 5/5] END .......C=0.1, gamma=1, kernel=rbf;, score=-0.116 total time=   0.4s\n",
      "[CV 1/5] END .....C=0.1, gamma=0.1, kernel=rbf;, score=-0.126 total time=   0.4s\n",
      "[CV 2/5] END .....C=0.1, gamma=0.1, kernel=rbf;, score=-0.090 total time=   0.4s\n",
      "[CV 3/5] END .....C=0.1, gamma=0.1, kernel=rbf;, score=-0.127 total time=   0.4s\n",
      "[CV 4/5] END .....C=0.1, gamma=0.1, kernel=rbf;, score=-0.113 total time=   0.4s\n",
      "[CV 5/5] END .....C=0.1, gamma=0.1, kernel=rbf;, score=-0.116 total time=   0.4s\n",
      "[CV 1/5] END ....C=0.1, gamma=0.01, kernel=rbf;, score=-0.126 total time=   0.4s\n",
      "[CV 2/5] END ....C=0.1, gamma=0.01, kernel=rbf;, score=-0.090 total time=   0.4s\n",
      "[CV 3/5] END ....C=0.1, gamma=0.01, kernel=rbf;, score=-0.127 total time=   0.4s\n",
      "[CV 4/5] END ....C=0.1, gamma=0.01, kernel=rbf;, score=-0.113 total time=   0.5s\n",
      "[CV 5/5] END ....C=0.1, gamma=0.01, kernel=rbf;, score=-0.116 total time=   0.5s\n",
      "[CV 1/5] END ...C=0.1, gamma=0.001, kernel=rbf;, score=-0.126 total time=   0.5s\n",
      "[CV 2/5] END ...C=0.1, gamma=0.001, kernel=rbf;, score=-0.090 total time=   0.5s\n",
      "[CV 3/5] END ...C=0.1, gamma=0.001, kernel=rbf;, score=-0.127 total time=   0.5s\n",
      "[CV 4/5] END ...C=0.1, gamma=0.001, kernel=rbf;, score=-0.113 total time=   0.4s\n",
      "[CV 5/5] END ...C=0.1, gamma=0.001, kernel=rbf;, score=-0.116 total time=   0.5s\n",
      "[CV 1/5] END ..C=0.1, gamma=0.0001, kernel=rbf;, score=-0.126 total time=   0.5s\n",
      "[CV 2/5] END ..C=0.1, gamma=0.0001, kernel=rbf;, score=-0.090 total time=   0.5s\n",
      "[CV 3/5] END ..C=0.1, gamma=0.0001, kernel=rbf;, score=-0.127 total time=   0.5s\n",
      "[CV 4/5] END ..C=0.1, gamma=0.0001, kernel=rbf;, score=-0.113 total time=   0.5s\n",
      "[CV 5/5] END ..C=0.1, gamma=0.0001, kernel=rbf;, score=-0.116 total time=   0.5s\n",
      "[CV 1/5] END .........C=1, gamma=1, kernel=rbf;, score=-0.126 total time=   0.5s\n",
      "[CV 2/5] END .........C=1, gamma=1, kernel=rbf;, score=-0.090 total time=   0.5s\n",
      "[CV 3/5] END .........C=1, gamma=1, kernel=rbf;, score=-0.126 total time=   0.5s\n",
      "[CV 4/5] END .........C=1, gamma=1, kernel=rbf;, score=-0.113 total time=   0.5s\n",
      "[CV 5/5] END .........C=1, gamma=1, kernel=rbf;, score=-0.116 total time=   0.5s\n",
      "[CV 1/5] END .......C=1, gamma=0.1, kernel=rbf;, score=-0.126 total time=   0.5s\n",
      "[CV 2/5] END .......C=1, gamma=0.1, kernel=rbf;, score=-0.090 total time=   0.5s\n",
      "[CV 3/5] END .......C=1, gamma=0.1, kernel=rbf;, score=-0.126 total time=   0.5s\n",
      "[CV 4/5] END .......C=1, gamma=0.1, kernel=rbf;, score=-0.113 total time=   0.5s\n",
      "[CV 5/5] END .......C=1, gamma=0.1, kernel=rbf;, score=-0.116 total time=   0.5s\n",
      "[CV 1/5] END ......C=1, gamma=0.01, kernel=rbf;, score=-0.126 total time=   0.5s\n",
      "[CV 2/5] END ......C=1, gamma=0.01, kernel=rbf;, score=-0.090 total time=   0.5s\n",
      "[CV 3/5] END ......C=1, gamma=0.01, kernel=rbf;, score=-0.126 total time=   0.5s\n",
      "[CV 4/5] END ......C=1, gamma=0.01, kernel=rbf;, score=-0.113 total time=   0.5s\n",
      "[CV 5/5] END ......C=1, gamma=0.01, kernel=rbf;, score=-0.116 total time=   0.5s\n",
      "[CV 1/5] END .....C=1, gamma=0.001, kernel=rbf;, score=-0.126 total time=   0.5s\n",
      "[CV 2/5] END .....C=1, gamma=0.001, kernel=rbf;, score=-0.090 total time=   0.5s\n",
      "[CV 3/5] END .....C=1, gamma=0.001, kernel=rbf;, score=-0.126 total time=   0.5s\n",
      "[CV 4/5] END .....C=1, gamma=0.001, kernel=rbf;, score=-0.113 total time=   0.5s\n",
      "[CV 5/5] END .....C=1, gamma=0.001, kernel=rbf;, score=-0.116 total time=   0.5s\n",
      "[CV 1/5] END ....C=1, gamma=0.0001, kernel=rbf;, score=-0.126 total time=   0.5s\n",
      "[CV 2/5] END ....C=1, gamma=0.0001, kernel=rbf;, score=-0.090 total time=   0.5s\n",
      "[CV 3/5] END ....C=1, gamma=0.0001, kernel=rbf;, score=-0.126 total time=   0.5s\n",
      "[CV 4/5] END ....C=1, gamma=0.0001, kernel=rbf;, score=-0.113 total time=   0.5s\n",
      "[CV 5/5] END ....C=1, gamma=0.0001, kernel=rbf;, score=-0.116 total time=   0.5s\n",
      "[CV 1/5] END ........C=10, gamma=1, kernel=rbf;, score=-0.127 total time=   0.5s\n",
      "[CV 2/5] END ........C=10, gamma=1, kernel=rbf;, score=-0.090 total time=   0.5s\n",
      "[CV 3/5] END ........C=10, gamma=1, kernel=rbf;, score=-0.127 total time=   0.5s\n",
      "[CV 4/5] END ........C=10, gamma=1, kernel=rbf;, score=-0.113 total time=   0.5s\n",
      "[CV 5/5] END ........C=10, gamma=1, kernel=rbf;, score=-0.116 total time=   0.5s\n",
      "[CV 1/5] END ......C=10, gamma=0.1, kernel=rbf;, score=-0.127 total time=   0.5s\n",
      "[CV 2/5] END ......C=10, gamma=0.1, kernel=rbf;, score=-0.090 total time=   0.5s\n",
      "[CV 3/5] END ......C=10, gamma=0.1, kernel=rbf;, score=-0.127 total time=   0.5s\n",
      "[CV 4/5] END ......C=10, gamma=0.1, kernel=rbf;, score=-0.113 total time=   0.6s\n",
      "[CV 5/5] END ......C=10, gamma=0.1, kernel=rbf;, score=-0.116 total time=   0.5s\n",
      "[CV 1/5] END .....C=10, gamma=0.01, kernel=rbf;, score=-0.127 total time=   0.5s\n",
      "[CV 2/5] END .....C=10, gamma=0.01, kernel=rbf;, score=-0.090 total time=   0.5s\n",
      "[CV 3/5] END .....C=10, gamma=0.01, kernel=rbf;, score=-0.127 total time=   0.5s\n",
      "[CV 4/5] END .....C=10, gamma=0.01, kernel=rbf;, score=-0.113 total time=   0.5s\n",
      "[CV 5/5] END .....C=10, gamma=0.01, kernel=rbf;, score=-0.116 total time=   0.5s\n",
      "[CV 1/5] END ....C=10, gamma=0.001, kernel=rbf;, score=-0.127 total time=   0.5s\n",
      "[CV 2/5] END ....C=10, gamma=0.001, kernel=rbf;, score=-0.090 total time=   0.5s\n",
      "[CV 3/5] END ....C=10, gamma=0.001, kernel=rbf;, score=-0.127 total time=   0.5s\n",
      "[CV 4/5] END ....C=10, gamma=0.001, kernel=rbf;, score=-0.113 total time=   0.5s\n",
      "[CV 5/5] END ....C=10, gamma=0.001, kernel=rbf;, score=-0.116 total time=   0.5s\n",
      "[CV 1/5] END ...C=10, gamma=0.0001, kernel=rbf;, score=-0.127 total time=   0.5s\n",
      "[CV 2/5] END ...C=10, gamma=0.0001, kernel=rbf;, score=-0.090 total time=   0.5s\n",
      "[CV 3/5] END ...C=10, gamma=0.0001, kernel=rbf;, score=-0.127 total time=   0.5s\n",
      "[CV 4/5] END ...C=10, gamma=0.0001, kernel=rbf;, score=-0.113 total time=   0.5s\n",
      "[CV 5/5] END ...C=10, gamma=0.0001, kernel=rbf;, score=-0.116 total time=   0.5s\n",
      "[CV 1/5] END .......C=100, gamma=1, kernel=rbf;, score=-0.109 total time=   0.5s\n",
      "[CV 2/5] END .......C=100, gamma=1, kernel=rbf;, score=-0.072 total time=   0.5s\n",
      "[CV 3/5] END .......C=100, gamma=1, kernel=rbf;, score=-0.109 total time=   0.5s\n",
      "[CV 4/5] END .......C=100, gamma=1, kernel=rbf;, score=-0.095 total time=   0.5s\n",
      "[CV 5/5] END .......C=100, gamma=1, kernel=rbf;, score=-0.098 total time=   0.5s\n",
      "[CV 1/5] END .....C=100, gamma=0.1, kernel=rbf;, score=-0.109 total time=   0.5s\n",
      "[CV 2/5] END .....C=100, gamma=0.1, kernel=rbf;, score=-0.072 total time=   0.5s\n",
      "[CV 3/5] END .....C=100, gamma=0.1, kernel=rbf;, score=-0.109 total time=   0.5s\n",
      "[CV 4/5] END .....C=100, gamma=0.1, kernel=rbf;, score=-0.095 total time=   0.5s\n",
      "[CV 5/5] END .....C=100, gamma=0.1, kernel=rbf;, score=-0.098 total time=   0.5s\n",
      "[CV 1/5] END ....C=100, gamma=0.01, kernel=rbf;, score=-0.109 total time=   0.5s\n",
      "[CV 2/5] END ....C=100, gamma=0.01, kernel=rbf;, score=-0.072 total time=   0.5s\n",
      "[CV 3/5] END ....C=100, gamma=0.01, kernel=rbf;, score=-0.109 total time=   0.5s\n",
      "[CV 4/5] END ....C=100, gamma=0.01, kernel=rbf;, score=-0.095 total time=   0.5s\n",
      "[CV 5/5] END ....C=100, gamma=0.01, kernel=rbf;, score=-0.098 total time=   0.5s\n",
      "[CV 1/5] END ...C=100, gamma=0.001, kernel=rbf;, score=-0.109 total time=   0.5s\n",
      "[CV 2/5] END ...C=100, gamma=0.001, kernel=rbf;, score=-0.071 total time=   0.5s\n",
      "[CV 3/5] END ...C=100, gamma=0.001, kernel=rbf;, score=-0.109 total time=   0.5s\n",
      "[CV 4/5] END ...C=100, gamma=0.001, kernel=rbf;, score=-0.094 total time=   0.5s\n",
      "[CV 5/5] END ...C=100, gamma=0.001, kernel=rbf;, score=-0.098 total time=   0.5s\n",
      "[CV 1/5] END ..C=100, gamma=0.0001, kernel=rbf;, score=-0.109 total time=   0.5s\n",
      "[CV 2/5] END ..C=100, gamma=0.0001, kernel=rbf;, score=-0.071 total time=   0.5s\n",
      "[CV 3/5] END ..C=100, gamma=0.0001, kernel=rbf;, score=-0.108 total time=   0.5s\n",
      "[CV 4/5] END ..C=100, gamma=0.0001, kernel=rbf;, score=-0.092 total time=   0.5s\n",
      "[CV 5/5] END ..C=100, gamma=0.0001, kernel=rbf;, score=-0.097 total time=   0.5s\n",
      "[CV 1/5] END ......C=1000, gamma=1, kernel=rbf;, score=-0.015 total time=   0.7s\n",
      "[CV 2/5] END ......C=1000, gamma=1, kernel=rbf;, score=-0.000 total time=   0.8s\n",
      "[CV 3/5] END ......C=1000, gamma=1, kernel=rbf;, score=-0.013 total time=   0.8s\n",
      "[CV 4/5] END ......C=1000, gamma=1, kernel=rbf;, score=-0.009 total time=   0.8s\n",
      "[CV 5/5] END ......C=1000, gamma=1, kernel=rbf;, score=-0.007 total time=   0.7s\n",
      "[CV 1/5] END ....C=1000, gamma=0.1, kernel=rbf;, score=-0.015 total time=   0.7s\n",
      "[CV 2/5] END ....C=1000, gamma=0.1, kernel=rbf;, score=-0.000 total time=   0.7s\n",
      "[CV 3/5] END ....C=1000, gamma=0.1, kernel=rbf;, score=-0.013 total time=   0.7s\n",
      "[CV 4/5] END ....C=1000, gamma=0.1, kernel=rbf;, score=-0.009 total time=   0.7s\n",
      "[CV 5/5] END ....C=1000, gamma=0.1, kernel=rbf;, score=-0.007 total time=   0.6s\n",
      "[CV 1/5] END ...C=1000, gamma=0.01, kernel=rbf;, score=-0.015 total time=   0.7s\n",
      "[CV 2/5] END ...C=1000, gamma=0.01, kernel=rbf;, score=-0.000 total time=   0.6s\n",
      "[CV 3/5] END ...C=1000, gamma=0.01, kernel=rbf;, score=-0.013 total time=   0.7s\n",
      "[CV 4/5] END ...C=1000, gamma=0.01, kernel=rbf;, score=-0.009 total time=   0.7s\n",
      "[CV 5/5] END ...C=1000, gamma=0.01, kernel=rbf;, score=-0.007 total time=   0.6s\n",
      "[CV 1/5] END ..C=1000, gamma=0.001, kernel=rbf;, score=-0.014 total time=   0.7s\n",
      "[CV 2/5] END ...C=1000, gamma=0.001, kernel=rbf;, score=0.001 total time=   0.6s\n",
      "[CV 3/5] END ..C=1000, gamma=0.001, kernel=rbf;, score=-0.012 total time=   0.7s\n",
      "[CV 4/5] END ..C=1000, gamma=0.001, kernel=rbf;, score=-0.008 total time=   0.8s\n",
      "[CV 5/5] END ..C=1000, gamma=0.001, kernel=rbf;, score=-0.006 total time=   0.8s\n",
      "[CV 1/5] END .C=1000, gamma=0.0001, kernel=rbf;, score=-0.014 total time=   0.7s\n",
      "[CV 2/5] END ..C=1000, gamma=0.0001, kernel=rbf;, score=0.002 total time=   0.8s\n",
      "[CV 3/5] END .C=1000, gamma=0.0001, kernel=rbf;, score=-0.001 total time=   0.7s\n",
      "[CV 4/5] END ..C=1000, gamma=0.0001, kernel=rbf;, score=0.005 total time=   0.7s\n",
      "[CV 5/5] END .C=1000, gamma=0.0001, kernel=rbf;, score=-0.003 total time=   0.7s\n"
     ]
    },
    {
     "data": {
      "text/html": [
       "<style>#sk-container-id-1 {color: black;background-color: white;}#sk-container-id-1 pre{padding: 0;}#sk-container-id-1 div.sk-toggleable {background-color: white;}#sk-container-id-1 label.sk-toggleable__label {cursor: pointer;display: block;width: 100%;margin-bottom: 0;padding: 0.3em;box-sizing: border-box;text-align: center;}#sk-container-id-1 label.sk-toggleable__label-arrow:before {content: \"▸\";float: left;margin-right: 0.25em;color: #696969;}#sk-container-id-1 label.sk-toggleable__label-arrow:hover:before {color: black;}#sk-container-id-1 div.sk-estimator:hover label.sk-toggleable__label-arrow:before {color: black;}#sk-container-id-1 div.sk-toggleable__content {max-height: 0;max-width: 0;overflow: hidden;text-align: left;background-color: #f0f8ff;}#sk-container-id-1 div.sk-toggleable__content pre {margin: 0.2em;color: black;border-radius: 0.25em;background-color: #f0f8ff;}#sk-container-id-1 input.sk-toggleable__control:checked~div.sk-toggleable__content {max-height: 200px;max-width: 100%;overflow: auto;}#sk-container-id-1 input.sk-toggleable__control:checked~label.sk-toggleable__label-arrow:before {content: \"▾\";}#sk-container-id-1 div.sk-estimator input.sk-toggleable__control:checked~label.sk-toggleable__label {background-color: #d4ebff;}#sk-container-id-1 div.sk-label input.sk-toggleable__control:checked~label.sk-toggleable__label {background-color: #d4ebff;}#sk-container-id-1 input.sk-hidden--visually {border: 0;clip: rect(1px 1px 1px 1px);clip: rect(1px, 1px, 1px, 1px);height: 1px;margin: -1px;overflow: hidden;padding: 0;position: absolute;width: 1px;}#sk-container-id-1 div.sk-estimator {font-family: monospace;background-color: #f0f8ff;border: 1px dotted black;border-radius: 0.25em;box-sizing: border-box;margin-bottom: 0.5em;}#sk-container-id-1 div.sk-estimator:hover {background-color: #d4ebff;}#sk-container-id-1 div.sk-parallel-item::after {content: \"\";width: 100%;border-bottom: 1px solid gray;flex-grow: 1;}#sk-container-id-1 div.sk-label:hover label.sk-toggleable__label {background-color: #d4ebff;}#sk-container-id-1 div.sk-serial::before {content: \"\";position: absolute;border-left: 1px solid gray;box-sizing: border-box;top: 0;bottom: 0;left: 50%;z-index: 0;}#sk-container-id-1 div.sk-serial {display: flex;flex-direction: column;align-items: center;background-color: white;padding-right: 0.2em;padding-left: 0.2em;position: relative;}#sk-container-id-1 div.sk-item {position: relative;z-index: 1;}#sk-container-id-1 div.sk-parallel {display: flex;align-items: stretch;justify-content: center;background-color: white;position: relative;}#sk-container-id-1 div.sk-item::before, #sk-container-id-1 div.sk-parallel-item::before {content: \"\";position: absolute;border-left: 1px solid gray;box-sizing: border-box;top: 0;bottom: 0;left: 50%;z-index: -1;}#sk-container-id-1 div.sk-parallel-item {display: flex;flex-direction: column;z-index: 1;position: relative;background-color: white;}#sk-container-id-1 div.sk-parallel-item:first-child::after {align-self: flex-end;width: 50%;}#sk-container-id-1 div.sk-parallel-item:last-child::after {align-self: flex-start;width: 50%;}#sk-container-id-1 div.sk-parallel-item:only-child::after {width: 0;}#sk-container-id-1 div.sk-dashed-wrapped {border: 1px dashed gray;margin: 0 0.4em 0.5em 0.4em;box-sizing: border-box;padding-bottom: 0.4em;background-color: white;}#sk-container-id-1 div.sk-label label {font-family: monospace;font-weight: bold;display: inline-block;line-height: 1.2em;}#sk-container-id-1 div.sk-label-container {text-align: center;}#sk-container-id-1 div.sk-container {/* jupyter's `normalize.less` sets `[hidden] { display: none; }` but bootstrap.min.css set `[hidden] { display: none !important; }` so we also need the `!important` here to be able to override the default hidden behavior on the sphinx rendered scikit-learn.org. See: https://github.com/scikit-learn/scikit-learn/issues/21755 */display: inline-block !important;position: relative;}#sk-container-id-1 div.sk-text-repr-fallback {display: none;}</style><div id=\"sk-container-id-1\" class=\"sk-top-container\"><div class=\"sk-text-repr-fallback\"><pre>GridSearchCV(estimator=SVR(),\n",
       "             param_grid={&#x27;C&#x27;: [0.1, 1, 10, 100, 1000],\n",
       "                         &#x27;gamma&#x27;: [1, 0.1, 0.01, 0.001, 0.0001],\n",
       "                         &#x27;kernel&#x27;: [&#x27;rbf&#x27;]},\n",
       "             verbose=3)</pre><b>In a Jupyter environment, please rerun this cell to show the HTML representation or trust the notebook. <br />On GitHub, the HTML representation is unable to render, please try loading this page with nbviewer.org.</b></div><div class=\"sk-container\" hidden><div class=\"sk-item sk-dashed-wrapped\"><div class=\"sk-label-container\"><div class=\"sk-label sk-toggleable\"><input class=\"sk-toggleable__control sk-hidden--visually\" id=\"sk-estimator-id-1\" type=\"checkbox\" ><label for=\"sk-estimator-id-1\" class=\"sk-toggleable__label sk-toggleable__label-arrow\">GridSearchCV</label><div class=\"sk-toggleable__content\"><pre>GridSearchCV(estimator=SVR(),\n",
       "             param_grid={&#x27;C&#x27;: [0.1, 1, 10, 100, 1000],\n",
       "                         &#x27;gamma&#x27;: [1, 0.1, 0.01, 0.001, 0.0001],\n",
       "                         &#x27;kernel&#x27;: [&#x27;rbf&#x27;]},\n",
       "             verbose=3)</pre></div></div></div><div class=\"sk-parallel\"><div class=\"sk-parallel-item\"><div class=\"sk-item\"><div class=\"sk-label-container\"><div class=\"sk-label sk-toggleable\"><input class=\"sk-toggleable__control sk-hidden--visually\" id=\"sk-estimator-id-2\" type=\"checkbox\" ><label for=\"sk-estimator-id-2\" class=\"sk-toggleable__label sk-toggleable__label-arrow\">estimator: SVR</label><div class=\"sk-toggleable__content\"><pre>SVR()</pre></div></div></div><div class=\"sk-serial\"><div class=\"sk-item\"><div class=\"sk-estimator sk-toggleable\"><input class=\"sk-toggleable__control sk-hidden--visually\" id=\"sk-estimator-id-3\" type=\"checkbox\" ><label for=\"sk-estimator-id-3\" class=\"sk-toggleable__label sk-toggleable__label-arrow\">SVR</label><div class=\"sk-toggleable__content\"><pre>SVR()</pre></div></div></div></div></div></div></div></div></div></div>"
      ],
      "text/plain": [
       "GridSearchCV(estimator=SVR(),\n",
       "             param_grid={'C': [0.1, 1, 10, 100, 1000],\n",
       "                         'gamma': [1, 0.1, 0.01, 0.001, 0.0001],\n",
       "                         'kernel': ['rbf']},\n",
       "             verbose=3)"
      ]
     },
     "execution_count": 23,
     "metadata": {},
     "output_type": "execute_result"
    }
   ],
   "source": [
    "from sklearn.svm import SVR\n",
    "from sklearn.model_selection import GridSearchCV\n",
    "\n",
    "svr = SVR()\n",
    "pg = {'C':[0.1,1,10,100,1000],\n",
    "     'gamma':[1,0.1,0.01,0.001,0.0001],\n",
    "     'kernel':['rbf']}\n",
    "\n",
    "gs = GridSearchCV(SVR(), pg, refit = True, verbose = 3)\n",
    "gs.fit(a,s)"
   ]
  },
  {
   "cell_type": "code",
   "execution_count": 24,
   "id": "b0180023-dbc2-46ee-92c2-25bd5005d8a6",
   "metadata": {},
   "outputs": [],
   "source": [
    "svr= SVR(C=10, gamma = 0.01, kernel = 'rbf')\n",
    "svr.fit(a,s)\n",
    "sg = svr.predict(d)"
   ]
  },
  {
   "cell_type": "code",
   "execution_count": 25,
   "id": "7873494c-a940-4497-88f5-9f619cb19364",
   "metadata": {},
   "outputs": [
    {
     "name": "stdout",
     "output_type": "stream",
     "text": [
      "mse : 461588.2648091682\n",
      "rmse : 679.4028737127686\n",
      "r2_score : -0.10004565530006304\n"
     ]
    }
   ],
   "source": [
    "ms(f,sg)"
   ]
  },
  {
   "cell_type": "code",
   "execution_count": 31,
   "id": "02452d72-9d18-4058-999f-7cb204b860ca",
   "metadata": {},
   "outputs": [],
   "source": [
    "import joblib\n",
    "\n",
    "joblib.dump(ri,'model.pkl')\n",
    "rfj = m = joblib.load('model.pkl')"
   ]
  }
 ],
 "metadata": {
  "kernelspec": {
   "display_name": "Python 3 (ipykernel)",
   "language": "python",
   "name": "python3"
  },
  "language_info": {
   "codemirror_mode": {
    "name": "ipython",
    "version": 3
   },
   "file_extension": ".py",
   "mimetype": "text/x-python",
   "name": "python",
   "nbconvert_exporter": "python",
   "pygments_lexer": "ipython3",
   "version": "3.10.5"
  }
 },
 "nbformat": 4,
 "nbformat_minor": 5
}
